{
 "cells": [
  {
   "cell_type": "code",
   "execution_count": 46,
   "metadata": {},
   "outputs": [],
   "source": [
    "import numpy as np\n",
    "np.set_printoptions(suppress=True, precision=4)"
   ]
  },
  {
   "cell_type": "code",
   "execution_count": 47,
   "metadata": {},
   "outputs": [],
   "source": [
    "M = np.array([\n",
    "    [-7.71006451e-09,  1.21567122e-10,  7.54873722e-06,  3.66057888e-04],\n",
    "    [-1.34129714e-10, -1.38071418e-08,  8.59443938e-06, -1.06903467e-03],\n",
    "    [ 0.00000000e+00,  0.00000000e+00,  0.00000000e+00,  1.00000000e+00],\n",
    "    [-1.13959611e-10, -2.10697273e-10, -2.75202689e-06, -1.98398397e-04]])"
   ]
  },
  {
   "cell_type": "code",
   "execution_count": 48,
   "metadata": {},
   "outputs": [],
   "source": [
    "a = np.array([[1200 * 1000], [600 * 1000], [1000], [1]])"
   ]
  },
  {
   "cell_type": "code",
   "execution_count": 49,
   "metadata": {},
   "outputs": [],
   "source": [
    "r = np.matmul(M, a)"
   ]
  },
  {
   "cell_type": "code",
   "execution_count": 50,
   "metadata": {},
   "outputs": [
    {
     "data": {
      "text/plain": [
       "array([[0.3934],\n",
       "       [0.2862]])"
      ]
     },
     "execution_count": 50,
     "metadata": {},
     "output_type": "execute_result"
    }
   ],
   "source": [
    "r[:2] / r[3]"
   ]
  },
  {
   "cell_type": "code",
   "execution_count": 51,
   "metadata": {},
   "outputs": [
    {
     "data": {
      "text/plain": [
       "array([[      -0.0771,        0.0012,       75.4874,     3660.5789],\n",
       "       [      -0.0013,       -0.1381,       85.9444,   -10690.3467],\n",
       "       [       0.    ,        0.    ,        0.    , 10000000.    ],\n",
       "       [      -0.0011,       -0.0021,      -27.5203,    -1983.984 ]])"
      ]
     },
     "execution_count": 51,
     "metadata": {},
     "output_type": "execute_result"
    }
   ],
   "source": [
    "M * 10000000"
   ]
  },
  {
   "cell_type": "code",
   "execution_count": 45,
   "metadata": {},
   "outputs": [
    {
     "data": {
      "text/plain": [
       "array([[[ 40, 187, 119],\n",
       "        [ 81, 174, 243],\n",
       "        [168,  78, 200],\n",
       "        [116, 186, 183],\n",
       "        [246,  18,  25]],\n",
       "\n",
       "       [[107,  61, 188],\n",
       "        [ 26,  61, 162],\n",
       "        [247,  21,  69],\n",
       "        [102,  83,  42],\n",
       "        [126, 231, 192]],\n",
       "\n",
       "       [[249, 217, 197],\n",
       "        [ 51, 221, 160],\n",
       "        [  6, 144,  35],\n",
       "        [105,  16,  30],\n",
       "        [ 73, 246, 121]],\n",
       "\n",
       "       [[182, 213,  83],\n",
       "        [130,  51,  44],\n",
       "        [196,  80, 180],\n",
       "        [191, 234, 124],\n",
       "        [225, 209, 116]],\n",
       "\n",
       "       [[164, 117, 109],\n",
       "        [104, 163, 208],\n",
       "        [128, 151, 117],\n",
       "        [147,  86,  62],\n",
       "        [179,  25,  32]]])"
      ]
     },
     "execution_count": 45,
     "metadata": {},
     "output_type": "execute_result"
    }
   ],
   "source": [
    "rgb = np.random.randint(0, 255, size=[5, 5, 3])\n",
    "rgb"
   ]
  },
  {
   "cell_type": "code",
   "execution_count": null,
   "metadata": {},
   "outputs": [],
   "source": []
  }
 ],
 "metadata": {
  "kernelspec": {
   "display_name": "Python 3",
   "language": "python",
   "name": "python3"
  },
  "language_info": {
   "codemirror_mode": {
    "name": "ipython",
    "version": 3
   },
   "file_extension": ".py",
   "mimetype": "text/x-python",
   "name": "python",
   "nbconvert_exporter": "python",
   "pygments_lexer": "ipython3",
   "version": "3.7.1"
  }
 },
 "nbformat": 4,
 "nbformat_minor": 2
}
