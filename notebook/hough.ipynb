{
 "cells": [
  {
   "cell_type": "code",
   "execution_count": 1,
   "metadata": {},
   "outputs": [],
   "source": [
    "import cv2\n",
    "import numpy as np\n",
    "%matplotlib inline\n",
    "import matplotlib.pyplot as plt\n",
    "from scipy.ndimage import maximum_filter"
   ]
  },
  {
   "cell_type": "code",
   "execution_count": 117,
   "metadata": {},
   "outputs": [
    {
     "data": {
      "image/png": "[encoded data removed]",
      "text/plain": [
       "<Figure size 432x288 with 1 Axes>"
      ]
     },
     "metadata": {
      "needs_background": "light"
     },
     "output_type": "display_data"
    }
   ],
   "source": [
    "im = np.zeros([100, 100], dtype=np.uint8) + np.rot90(np.eye(100, dtype=np.uint8)) * 255\n",
    "for a in range(0):\n",
    "    im = cv2.line(im, (np.random.randint(100), np.random.randint(100)), (np.random.randint(100), np.random.randint(100)), 255)\n",
    "\n",
    "a = cv2.HoughLines(im, 1, np.pi / 180, 25)\n",
    "plt.imshow(im)\n",
    "ys, xs = np.where(im)"
   ]
  },
  {
   "cell_type": "code",
   "execution_count": 121,
   "metadata": {},
   "outputs": [],
   "source": [
    "def henry_hough(locs, angle_res, rho_res):\n",
    "    angles = np.linspace(0, np.pi, angle_res, endpoint=False)\n",
    "    da = np.stack([\n",
    "        np.sin(angles),\n",
    "        np.cos(angles)\n",
    "    ], 1)\n",
    "    distances = np.dot(da, locs.T)\n",
    "    projected = np.expand_dims(distances, 2) * da.reshape([-1, 1, 2])\n",
    "    delta = np.expand_dims(locs, 0) - projected\n",
    "    \n",
    "    cross = (delta[...,1] * da[...,0:1] - delta[...,0] * da[...,1:2])\n",
    "    ds = np.round(cross / rho_res).astype(np.int64)\n",
    "    \n",
    "    a = max(-np.min(ds), np.max(ds))\n",
    "    ds += a\n",
    "    return np.stack([np.bincount(row, minlength=int(2*a + 1)) for row in ds], 0) "
   ]
  },
  {
   "cell_type": "code",
   "execution_count": 122,
   "metadata": {},
   "outputs": [
    {
     "data": {
      "text/plain": [
       "1"
      ]
     },
     "execution_count": 122,
     "metadata": {},
     "output_type": "execute_result"
    },
    {
     "data": {
      "image/png": "[encoded data removed]",
      "text/plain": [
       "<Figure size 432x288 with 1 Axes>"
      ]
     },
     "metadata": {
      "needs_background": "light"
     },
     "output_type": "display_data"
    }
   ],
   "source": [
    "hough = henry_hough(np.stack([ys, xs], 1), 180, 1.0)\n",
    "hough_lines = np.logical_and(\n",
    "    hough == maximum_filter(hough, size=15),\n",
    "    hough >= 15\n",
    ")\n",
    "plt.imshow(hough_lines)\n",
    "theta_ind, rho = np.unravel_index(np.argmax(hough), hough.shape)\n",
    "theta_ind, rho\n",
    "\n",
    "hough[45, 189-73-1]"
   ]
  },
  {
   "cell_type": "code",
   "execution_count": 123,
   "metadata": {},
   "outputs": [
    {
     "data": {
      "text/plain": [
       "(180, 199)"
      ]
     },
     "execution_count": 123,
     "metadata": {},
     "output_type": "execute_result"
    },
    {
     "data": {
      "image/png": "[encoded data removed]",
      "text/plain": [
       "<Figure size 432x288 with 1 Axes>"
      ]
     },
     "metadata": {
      "needs_background": "light"
     },
     "output_type": "display_data"
    }
   ],
   "source": [
    "plt.imshow(hough)\n",
    "hough.shape"
   ]
  },
  {
   "cell_type": "code",
   "execution_count": 105,
   "metadata": {},
   "outputs": [
    {
     "data": {
      "text/plain": [
       "100"
      ]
     },
     "execution_count": 105,
     "metadata": {},
     "output_type": "execute_result"
    }
   ],
   "source": [
    "hough[45, 140]"
   ]
  },
  {
   "cell_type": "code",
   "execution_count": 1,
   "metadata": {},
   "outputs": [],
   "source": [
    "def henry_hough(locs, weights, angle_res, rho_res):\n",
    "    angles = np.linspace(0, np.pi, angle_res, endpoint=False)\n",
    "    da = np.stack([\n",
    "        np.sin(angles),\n",
    "        np.cos(angles)\n",
    "    ], 1)\n",
    "    distances = np.dot(da, locs.T)\n",
    "    projected = np.expand_dims(distances, 2) * da.reshape([-1, 1, 2])\n",
    "    delta = np.expand_dims(locs, 0) - projected\n",
    "    \n",
    "    cross = (delta[...,1] * da[...,0:1] - delta[...,0] * da[...,1:2])\n",
    "    ds = np.round(cross / rho_res).astype(np.int64)\n",
    "    \n",
    "    a = max(-np.min(ds), np.max(ds))\n",
    "    ds += a\n",
    "    return np.stack([np.bincount(row, minlength=int(2*a + 1), weights=weights) for row in ds], 0)\n",
    "\n",
    "def buffer(locs, theta, rho, dta):\n",
    "    da = np.array([\n",
    "        np.sin(theta),\n",
    "        np.cos(theta)\n",
    "    ])\n",
    "    distances = np.dot(locs, da)\n",
    "    projected = np.expand_dims(distances, 1) * da.reshape([1, 2])\n",
    "    delta = locs - projected\n",
    "    \n",
    "    cross = (delta[...,1] * da[0] - delta[...,0] * da[1])\n",
    "    \n",
    "    return np.logical_and(cross > rho - dta, cross < rho + dta)"
   ]
  },
  {
   "cell_type": "code",
   "execution_count": null,
   "metadata": {},
   "outputs": [],
   "source": []
  }
 ],
 "metadata": {
  "kernelspec": {
   "display_name": "Python 3",
   "language": "python",
   "name": "python3"
  },
  "language_info": {
   "codemirror_mode": {
    "name": "ipython",
    "version": 3
   },
   "file_extension": ".py",
   "mimetype": "text/x-python",
   "name": "python",
   "nbconvert_exporter": "python",
   "pygments_lexer": "ipython3",
   "version": "3.6.7"
  }
 },
 "nbformat": 4,
 "nbformat_minor": 2
}
